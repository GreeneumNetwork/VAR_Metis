{
  "nbformat": 4,
  "nbformat_minor": 0,
  "metadata": {
    "colab": {
      "name": "VAR_Example",
      "provenance": [],
      "collapsed_sections": [],
      "toc_visible": true,
      "include_colab_link": true
    },
    "kernelspec": {
      "display_name": "Python 3",
      "name": "python3"
    }
  },
  "cells": [
    {
      "cell_type": "markdown",
      "metadata": {
        "id": "view-in-github",
        "colab_type": "text"
      },
      "source": [
        "<a href=\"https://colab.research.google.com/github/GreeneumNetwork/VAR_Metis/blob/main/VAR_Example.ipynb\" target=\"_parent\"><img src=\"https://colab.research.google.com/assets/colab-badge.svg\" alt=\"Open In Colab\"/></a>"
      ]
    },
    {
      "cell_type": "code",
      "metadata": {
        "colab": {
          "base_uri": "https://localhost:8080/"
        },
        "id": "nIs7fmPwF7mp",
        "outputId": "4b690d68-0175-4d38-e6da-854fd641c1cb"
      },
      "source": [
        "import pandas as pd\n",
        "import numpy as np\n",
        "import matplotlib.pyplot as plt\n",
        "%matplotlib inline\n",
        "\n",
        "# Import Statsmodels\n",
        "from statsmodels.tsa.api import VAR\n",
        "from statsmodels.tsa.stattools import adfuller\n",
        "from statsmodels.tools.eval_measures import rmse, aic"
      ],
      "execution_count": null,
      "outputs": [
        {
          "output_type": "stream",
          "name": "stderr",
          "text": [
            "/usr/local/lib/python3.7/dist-packages/statsmodels/tools/_testing.py:19: FutureWarning: pandas.util.testing is deprecated. Use the functions in the public API at pandas.testing instead.\n",
            "  import pandas.util.testing as tm\n"
          ]
        }
      ]
    },
    {
      "cell_type": "code",
      "metadata": {
        "colab": {
          "base_uri": "https://localhost:8080/",
          "height": 254
        },
        "id": "wayj4qa5FiW-",
        "outputId": "76b88e0c-2f4a-47e6-b687-721eebf33326"
      },
      "source": [
        "filepath = 'https://raw.githubusercontent.com/selva86/datasets/master/Raotbl6.csv'\n",
        "df = pd.read_csv(filepath, parse_dates=['date'], index_col='date')\n",
        "print(df.shape)  # (123, 8)\n",
        "df.tail()"
      ],
      "execution_count": null,
      "outputs": [
        {
          "output_type": "stream",
          "name": "stdout",
          "text": [
            "(123, 8)\n"
          ]
        },
        {
          "output_type": "execute_result",
          "data": {
            "text/html": [
              "<div>\n",
              "<style scoped>\n",
              "    .dataframe tbody tr th:only-of-type {\n",
              "        vertical-align: middle;\n",
              "    }\n",
              "\n",
              "    .dataframe tbody tr th {\n",
              "        vertical-align: top;\n",
              "    }\n",
              "\n",
              "    .dataframe thead th {\n",
              "        text-align: right;\n",
              "    }\n",
              "</style>\n",
              "<table border=\"1\" class=\"dataframe\">\n",
              "  <thead>\n",
              "    <tr style=\"text-align: right;\">\n",
              "      <th></th>\n",
              "      <th>rgnp</th>\n",
              "      <th>pgnp</th>\n",
              "      <th>ulc</th>\n",
              "      <th>gdfco</th>\n",
              "      <th>gdf</th>\n",
              "      <th>gdfim</th>\n",
              "      <th>gdfcf</th>\n",
              "      <th>gdfce</th>\n",
              "    </tr>\n",
              "    <tr>\n",
              "      <th>date</th>\n",
              "      <th></th>\n",
              "      <th></th>\n",
              "      <th></th>\n",
              "      <th></th>\n",
              "      <th></th>\n",
              "      <th></th>\n",
              "      <th></th>\n",
              "      <th></th>\n",
              "    </tr>\n",
              "  </thead>\n",
              "  <tbody>\n",
              "    <tr>\n",
              "      <th>1988-07-01</th>\n",
              "      <td>4042.7</td>\n",
              "      <td>3971.9</td>\n",
              "      <td>179.6</td>\n",
              "      <td>131.5</td>\n",
              "      <td>124.9</td>\n",
              "      <td>106.2</td>\n",
              "      <td>123.5</td>\n",
              "      <td>92.8</td>\n",
              "    </tr>\n",
              "    <tr>\n",
              "      <th>1988-10-01</th>\n",
              "      <td>4069.4</td>\n",
              "      <td>3995.8</td>\n",
              "      <td>181.3</td>\n",
              "      <td>133.3</td>\n",
              "      <td>126.2</td>\n",
              "      <td>107.3</td>\n",
              "      <td>124.9</td>\n",
              "      <td>92.9</td>\n",
              "    </tr>\n",
              "    <tr>\n",
              "      <th>1989-01-01</th>\n",
              "      <td>4106.8</td>\n",
              "      <td>4019.9</td>\n",
              "      <td>184.1</td>\n",
              "      <td>134.8</td>\n",
              "      <td>127.7</td>\n",
              "      <td>109.5</td>\n",
              "      <td>126.6</td>\n",
              "      <td>94.0</td>\n",
              "    </tr>\n",
              "    <tr>\n",
              "      <th>1989-04-01</th>\n",
              "      <td>4132.5</td>\n",
              "      <td>4044.1</td>\n",
              "      <td>186.1</td>\n",
              "      <td>134.8</td>\n",
              "      <td>129.3</td>\n",
              "      <td>111.1</td>\n",
              "      <td>129.0</td>\n",
              "      <td>100.6</td>\n",
              "    </tr>\n",
              "    <tr>\n",
              "      <th>1989-07-01</th>\n",
              "      <td>4162.9</td>\n",
              "      <td>4068.4</td>\n",
              "      <td>187.4</td>\n",
              "      <td>137.2</td>\n",
              "      <td>130.2</td>\n",
              "      <td>109.8</td>\n",
              "      <td>129.9</td>\n",
              "      <td>98.2</td>\n",
              "    </tr>\n",
              "  </tbody>\n",
              "</table>\n",
              "</div>"
            ],
            "text/plain": [
              "              rgnp    pgnp    ulc  gdfco    gdf  gdfim  gdfcf  gdfce\n",
              "date                                                                \n",
              "1988-07-01  4042.7  3971.9  179.6  131.5  124.9  106.2  123.5   92.8\n",
              "1988-10-01  4069.4  3995.8  181.3  133.3  126.2  107.3  124.9   92.9\n",
              "1989-01-01  4106.8  4019.9  184.1  134.8  127.7  109.5  126.6   94.0\n",
              "1989-04-01  4132.5  4044.1  186.1  134.8  129.3  111.1  129.0  100.6\n",
              "1989-07-01  4162.9  4068.4  187.4  137.2  130.2  109.8  129.9   98.2"
            ]
          },
          "metadata": {},
          "execution_count": 2
        }
      ]
    },
    {
      "cell_type": "code",
      "metadata": {
        "colab": {
          "base_uri": "https://localhost:8080/",
          "height": 545
        },
        "id": "xiOqEcNaFnCN",
        "outputId": "430a9dcd-6330-4136-c412-363010b29cf1"
      },
      "source": [
        "# Plot\n",
        "fig, axes = plt.subplots(nrows=4, ncols=2, dpi=120, figsize=(10,6))\n",
        "for i, ax in enumerate(axes.flatten()):\n",
        "    data = df[df.columns[i]]\n",
        "    ax.plot(data, color='red', linewidth=1)\n",
        "    # Decorations\n",
        "    ax.set_title(df.columns[i])\n",
        "    ax.xaxis.set_ticks_position('none')\n",
        "    ax.yaxis.set_ticks_position('none')\n",
        "    ax.spines[\"top\"].set_alpha(0)\n",
        "    ax.tick_params(labelsize=6)\n",
        "\n",
        "plt.tight_layout();"
      ],
      "execution_count": null,
      "outputs": [
        {
          "output_type": "display_data",
          "data": {
            "image/png": "[encoded data removed]",
            "text/plain": [
              "<Figure size 1200x720 with 8 Axes>"
            ]
          },
          "metadata": {
            "needs_background": "light"
          }
        }
      ]
    },
    {
      "cell_type": "code",
      "metadata": {
        "colab": {
          "base_uri": "https://localhost:8080/",
          "height": 299
        },
        "id": "PHjYW5wNF9fJ",
        "outputId": "df477452-d75f-4d9c-d95c-95b8516b673c"
      },
      "source": [
        "from statsmodels.tsa.stattools import grangercausalitytests\n",
        "maxlag=12\n",
        "test = 'ssr_chi2test'\n",
        "def grangers_causation_matrix(data, variables, test='ssr_chi2test', verbose=False):    \n",
        "    \"\"\"Check Granger Causality of all possible combinations of the Time series.\n",
        "    The rows are the response variable, columns are predictors. The values in the table \n",
        "    are the P-Values. P-Values lesser than the significance level (0.05), implies \n",
        "    the Null Hypothesis that the coefficients of the corresponding past values is \n",
        "    zero, that is, the X does not cause Y can be rejected.\n",
        "\n",
        "    data      : pandas dataframe containing the time series variables\n",
        "    variables : list containing names of the time series variables.\n",
        "    \"\"\"\n",
        "    df = pd.DataFrame(np.zeros((len(variables), len(variables))), columns=variables, index=variables)\n",
        "    for c in df.columns:\n",
        "        for r in df.index:\n",
        "            test_result = grangercausalitytests(data[[r, c]], maxlag=maxlag, verbose=False)\n",
        "            p_values = [round(test_result[i+1][0][test][1],4) for i in range(maxlag)]\n",
        "            if verbose: print(f'Y = {r}, X = {c}, P Values = {p_values}')\n",
        "            min_p_value = np.min(p_values)\n",
        "            df.loc[r, c] = min_p_value\n",
        "    df.columns = [var + '_x' for var in variables]\n",
        "    df.index = [var + '_y' for var in variables]\n",
        "    return df\n",
        "\n",
        "grangers_causation_matrix(df, variables = df.columns)        "
      ],
      "execution_count": null,
      "outputs": [
        {
          "output_type": "execute_result",
          "data": {
            "text/html": [
              "<div>\n",
              "<style scoped>\n",
              "    .dataframe tbody tr th:only-of-type {\n",
              "        vertical-align: middle;\n",
              "    }\n",
              "\n",
              "    .dataframe tbody tr th {\n",
              "        vertical-align: top;\n",
              "    }\n",
              "\n",
              "    .dataframe thead th {\n",
              "        text-align: right;\n",
              "    }\n",
              "</style>\n",
              "<table border=\"1\" class=\"dataframe\">\n",
              "  <thead>\n",
              "    <tr style=\"text-align: right;\">\n",
              "      <th></th>\n",
              "      <th>rgnp_x</th>\n",
              "      <th>pgnp_x</th>\n",
              "      <th>ulc_x</th>\n",
              "      <th>gdfco_x</th>\n",
              "      <th>gdf_x</th>\n",
              "      <th>gdfim_x</th>\n",
              "      <th>gdfcf_x</th>\n",
              "      <th>gdfce_x</th>\n",
              "    </tr>\n",
              "  </thead>\n",
              "  <tbody>\n",
              "    <tr>\n",
              "      <th>rgnp_y</th>\n",
              "      <td>1.0000</td>\n",
              "      <td>0.0003</td>\n",
              "      <td>0.0001</td>\n",
              "      <td>0.0212</td>\n",
              "      <td>0.0014</td>\n",
              "      <td>0.0620</td>\n",
              "      <td>0.0001</td>\n",
              "      <td>0.0071</td>\n",
              "    </tr>\n",
              "    <tr>\n",
              "      <th>pgnp_y</th>\n",
              "      <td>0.0000</td>\n",
              "      <td>1.0000</td>\n",
              "      <td>0.0000</td>\n",
              "      <td>0.0000</td>\n",
              "      <td>0.0000</td>\n",
              "      <td>0.0000</td>\n",
              "      <td>0.0000</td>\n",
              "      <td>0.0000</td>\n",
              "    </tr>\n",
              "    <tr>\n",
              "      <th>ulc_y</th>\n",
              "      <td>0.0000</td>\n",
              "      <td>0.0000</td>\n",
              "      <td>1.0000</td>\n",
              "      <td>0.0002</td>\n",
              "      <td>0.0000</td>\n",
              "      <td>0.0000</td>\n",
              "      <td>0.0000</td>\n",
              "      <td>0.0041</td>\n",
              "    </tr>\n",
              "    <tr>\n",
              "      <th>gdfco_y</th>\n",
              "      <td>0.0000</td>\n",
              "      <td>0.0000</td>\n",
              "      <td>0.0000</td>\n",
              "      <td>1.0000</td>\n",
              "      <td>0.0000</td>\n",
              "      <td>0.0000</td>\n",
              "      <td>0.0000</td>\n",
              "      <td>0.0000</td>\n",
              "    </tr>\n",
              "    <tr>\n",
              "      <th>gdf_y</th>\n",
              "      <td>0.0000</td>\n",
              "      <td>0.0000</td>\n",
              "      <td>0.0000</td>\n",
              "      <td>0.0000</td>\n",
              "      <td>1.0000</td>\n",
              "      <td>0.0000</td>\n",
              "      <td>0.0000</td>\n",
              "      <td>0.0000</td>\n",
              "    </tr>\n",
              "    <tr>\n",
              "      <th>gdfim_y</th>\n",
              "      <td>0.0011</td>\n",
              "      <td>0.0067</td>\n",
              "      <td>0.0014</td>\n",
              "      <td>0.0083</td>\n",
              "      <td>0.0011</td>\n",
              "      <td>1.0000</td>\n",
              "      <td>0.0004</td>\n",
              "      <td>0.0000</td>\n",
              "    </tr>\n",
              "    <tr>\n",
              "      <th>gdfcf_y</th>\n",
              "      <td>0.0000</td>\n",
              "      <td>0.0000</td>\n",
              "      <td>0.0008</td>\n",
              "      <td>0.0008</td>\n",
              "      <td>0.0000</td>\n",
              "      <td>0.0038</td>\n",
              "      <td>1.0000</td>\n",
              "      <td>0.0009</td>\n",
              "    </tr>\n",
              "    <tr>\n",
              "      <th>gdfce_y</th>\n",
              "      <td>0.0025</td>\n",
              "      <td>0.0485</td>\n",
              "      <td>0.0000</td>\n",
              "      <td>0.0002</td>\n",
              "      <td>0.0000</td>\n",
              "      <td>0.0000</td>\n",
              "      <td>0.0000</td>\n",
              "      <td>1.0000</td>\n",
              "    </tr>\n",
              "  </tbody>\n",
              "</table>\n",
              "</div>"
            ],
            "text/plain": [
              "         rgnp_x  pgnp_x   ulc_x  gdfco_x   gdf_x  gdfim_x  gdfcf_x  gdfce_x\n",
              "rgnp_y   1.0000  0.0003  0.0001   0.0212  0.0014   0.0620   0.0001   0.0071\n",
              "pgnp_y   0.0000  1.0000  0.0000   0.0000  0.0000   0.0000   0.0000   0.0000\n",
              "ulc_y    0.0000  0.0000  1.0000   0.0002  0.0000   0.0000   0.0000   0.0041\n",
              "gdfco_y  0.0000  0.0000  0.0000   1.0000  0.0000   0.0000   0.0000   0.0000\n",
              "gdf_y    0.0000  0.0000  0.0000   0.0000  1.0000   0.0000   0.0000   0.0000\n",
              "gdfim_y  0.0011  0.0067  0.0014   0.0083  0.0011   1.0000   0.0004   0.0000\n",
              "gdfcf_y  0.0000  0.0000  0.0008   0.0008  0.0000   0.0038   1.0000   0.0009\n",
              "gdfce_y  0.0025  0.0485  0.0000   0.0002  0.0000   0.0000   0.0000   1.0000"
            ]
          },
          "metadata": {},
          "execution_count": 4
        }
      ]
    },
    {
      "cell_type": "code",
      "metadata": {
        "colab": {
          "base_uri": "https://localhost:8080/",
          "height": 545
        },
        "id": "i1gYZr9rGVAl",
        "outputId": "7c9fd4a6-2b66-452f-a408-cb248023733d"
      },
      "source": [
        "# Plot\n",
        "fig, axes = plt.subplots(nrows=4, ncols=2, dpi=120, figsize=(10,6))\n",
        "for i, ax in enumerate(axes.flatten()):\n",
        "    data = df[df.columns[i]]\n",
        "    ax.plot(data, color='red', linewidth=1)\n",
        "    # Decorations\n",
        "    ax.set_title(df.columns[i])\n",
        "    ax.xaxis.set_ticks_position('none')\n",
        "    ax.yaxis.set_ticks_position('none')\n",
        "    ax.spines[\"top\"].set_alpha(0)\n",
        "    ax.tick_params(labelsize=6)\n",
        "\n",
        "plt.tight_layout();"
      ],
      "execution_count": null,
      "outputs": [
        {
          "output_type": "display_data",
          "data": {
            "image/png": "[encoded data removed]",
            "text/plain": [
              "<Figure size 1200x720 with 8 Axes>"
            ]
          },
          "metadata": {
            "needs_background": "light"
          }
        }
      ]
    },
    {
      "cell_type": "code",
      "metadata": {
        "colab": {
          "base_uri": "https://localhost:8080/",
          "height": 299
        },
        "id": "OjcQQFWKGayX",
        "outputId": "32b93834-2794-4d3e-b926-de909ef3a1bf"
      },
      "source": [
        "from statsmodels.tsa.stattools import grangercausalitytests\n",
        "maxlag=12\n",
        "test = 'ssr_chi2test'\n",
        "def grangers_causation_matrix(data, variables, test='ssr_chi2test', verbose=False):    \n",
        "    \"\"\"Check Granger Causality of all possible combinations of the Time series.\n",
        "    The rows are the response variable, columns are predictors. The values in the table \n",
        "    are the P-Values. P-Values lesser than the significance level (0.05), implies \n",
        "    the Null Hypothesis that the coefficients of the corresponding past values is \n",
        "    zero, that is, the X does not cause Y can be rejected.\n",
        "\n",
        "    data      : pandas dataframe containing the time series variables\n",
        "    variables : list containing names of the time series variables.\n",
        "    \"\"\"\n",
        "    df = pd.DataFrame(np.zeros((len(variables), len(variables))), columns=variables, index=variables)\n",
        "    for c in df.columns:\n",
        "        for r in df.index:\n",
        "            test_result = grangercausalitytests(data[[r, c]], maxlag=maxlag, verbose=False)\n",
        "            p_values = [round(test_result[i+1][0][test][1],4) for i in range(maxlag)]\n",
        "            if verbose: print(f'Y = {r}, X = {c}, P Values = {p_values}')\n",
        "            min_p_value = np.min(p_values)\n",
        "            df.loc[r, c] = min_p_value\n",
        "    df.columns = [var + '_x' for var in variables]\n",
        "    df.index = [var + '_y' for var in variables]\n",
        "    return df\n",
        "\n",
        "grangers_causation_matrix(df, variables = df.columns)       "
      ],
      "execution_count": null,
      "outputs": [
        {
          "output_type": "execute_result",
          "data": {
            "text/html": [
              "<div>\n",
              "<style scoped>\n",
              "    .dataframe tbody tr th:only-of-type {\n",
              "        vertical-align: middle;\n",
              "    }\n",
              "\n",
              "    .dataframe tbody tr th {\n",
              "        vertical-align: top;\n",
              "    }\n",
              "\n",
              "    .dataframe thead th {\n",
              "        text-align: right;\n",
              "    }\n",
              "</style>\n",
              "<table border=\"1\" class=\"dataframe\">\n",
              "  <thead>\n",
              "    <tr style=\"text-align: right;\">\n",
              "      <th></th>\n",
              "      <th>rgnp_x</th>\n",
              "      <th>pgnp_x</th>\n",
              "      <th>ulc_x</th>\n",
              "      <th>gdfco_x</th>\n",
              "      <th>gdf_x</th>\n",
              "      <th>gdfim_x</th>\n",
              "      <th>gdfcf_x</th>\n",
              "      <th>gdfce_x</th>\n",
              "    </tr>\n",
              "  </thead>\n",
              "  <tbody>\n",
              "    <tr>\n",
              "      <th>rgnp_y</th>\n",
              "      <td>1.0000</td>\n",
              "      <td>0.0003</td>\n",
              "      <td>0.0001</td>\n",
              "      <td>0.0212</td>\n",
              "      <td>0.0014</td>\n",
              "      <td>0.0620</td>\n",
              "      <td>0.0001</td>\n",
              "      <td>0.0071</td>\n",
              "    </tr>\n",
              "    <tr>\n",
              "      <th>pgnp_y</th>\n",
              "      <td>0.0000</td>\n",
              "      <td>1.0000</td>\n",
              "      <td>0.0000</td>\n",
              "      <td>0.0000</td>\n",
              "      <td>0.0000</td>\n",
              "      <td>0.0000</td>\n",
              "      <td>0.0000</td>\n",
              "      <td>0.0000</td>\n",
              "    </tr>\n",
              "    <tr>\n",
              "      <th>ulc_y</th>\n",
              "      <td>0.0000</td>\n",
              "      <td>0.0000</td>\n",
              "      <td>1.0000</td>\n",
              "      <td>0.0002</td>\n",
              "      <td>0.0000</td>\n",
              "      <td>0.0000</td>\n",
              "      <td>0.0000</td>\n",
              "      <td>0.0041</td>\n",
              "    </tr>\n",
              "    <tr>\n",
              "      <th>gdfco_y</th>\n",
              "      <td>0.0000</td>\n",
              "      <td>0.0000</td>\n",
              "      <td>0.0000</td>\n",
              "      <td>1.0000</td>\n",
              "      <td>0.0000</td>\n",
              "      <td>0.0000</td>\n",
              "      <td>0.0000</td>\n",
              "      <td>0.0000</td>\n",
              "    </tr>\n",
              "    <tr>\n",
              "      <th>gdf_y</th>\n",
              "      <td>0.0000</td>\n",
              "      <td>0.0000</td>\n",
              "      <td>0.0000</td>\n",
              "      <td>0.0000</td>\n",
              "      <td>1.0000</td>\n",
              "      <td>0.0000</td>\n",
              "      <td>0.0000</td>\n",
              "      <td>0.0000</td>\n",
              "    </tr>\n",
              "    <tr>\n",
              "      <th>gdfim_y</th>\n",
              "      <td>0.0011</td>\n",
              "      <td>0.0067</td>\n",
              "      <td>0.0014</td>\n",
              "      <td>0.0083</td>\n",
              "      <td>0.0011</td>\n",
              "      <td>1.0000</td>\n",
              "      <td>0.0004</td>\n",
              "      <td>0.0000</td>\n",
              "    </tr>\n",
              "    <tr>\n",
              "      <th>gdfcf_y</th>\n",
              "      <td>0.0000</td>\n",
              "      <td>0.0000</td>\n",
              "      <td>0.0008</td>\n",
              "      <td>0.0008</td>\n",
              "      <td>0.0000</td>\n",
              "      <td>0.0038</td>\n",
              "      <td>1.0000</td>\n",
              "      <td>0.0009</td>\n",
              "    </tr>\n",
              "    <tr>\n",
              "      <th>gdfce_y</th>\n",
              "      <td>0.0025</td>\n",
              "      <td>0.0485</td>\n",
              "      <td>0.0000</td>\n",
              "      <td>0.0002</td>\n",
              "      <td>0.0000</td>\n",
              "      <td>0.0000</td>\n",
              "      <td>0.0000</td>\n",
              "      <td>1.0000</td>\n",
              "    </tr>\n",
              "  </tbody>\n",
              "</table>\n",
              "</div>"
            ],
            "text/plain": [
              "         rgnp_x  pgnp_x   ulc_x  gdfco_x   gdf_x  gdfim_x  gdfcf_x  gdfce_x\n",
              "rgnp_y   1.0000  0.0003  0.0001   0.0212  0.0014   0.0620   0.0001   0.0071\n",
              "pgnp_y   0.0000  1.0000  0.0000   0.0000  0.0000   0.0000   0.0000   0.0000\n",
              "ulc_y    0.0000  0.0000  1.0000   0.0002  0.0000   0.0000   0.0000   0.0041\n",
              "gdfco_y  0.0000  0.0000  0.0000   1.0000  0.0000   0.0000   0.0000   0.0000\n",
              "gdf_y    0.0000  0.0000  0.0000   0.0000  1.0000   0.0000   0.0000   0.0000\n",
              "gdfim_y  0.0011  0.0067  0.0014   0.0083  0.0011   1.0000   0.0004   0.0000\n",
              "gdfcf_y  0.0000  0.0000  0.0008   0.0008  0.0000   0.0038   1.0000   0.0009\n",
              "gdfce_y  0.0025  0.0485  0.0000   0.0002  0.0000   0.0000   0.0000   1.0000"
            ]
          },
          "metadata": {},
          "execution_count": 6
        }
      ]
    },
    {
      "cell_type": "code",
      "metadata": {
        "colab": {
          "base_uri": "https://localhost:8080/"
        },
        "id": "BwJTzD5zGp7M",
        "outputId": "3a4cbc36-8d28-4ea4-d1ee-8d78d1edff24"
      },
      "source": [
        "nobs = 4\n",
        "df_train, df_test = df[0:-nobs], df[-nobs:]\n",
        "\n",
        "# Check size\n",
        "print(df_train.shape)  # (119, 8)\n",
        "print(df_test.shape)  # (4, 8)"
      ],
      "execution_count": null,
      "outputs": [
        {
          "output_type": "stream",
          "name": "stdout",
          "text": [
            "(119, 8)\n",
            "(4, 8)\n"
          ]
        }
      ]
    },
    {
      "cell_type": "code",
      "metadata": {
        "id": "mntOzGd_GzFh"
      },
      "source": [
        "def adfuller_test(series, signif=0.05, name='', verbose=False):\n",
        "    \"\"\"Perform ADFuller to test for Stationarity of given series and print report\"\"\"\n",
        "    r = adfuller(series, autolag='AIC')\n",
        "    output = {'test_statistic':round(r[0], 4), 'pvalue':round(r[1], 4), 'n_lags':round(r[2], 4), 'n_obs':r[3]}\n",
        "    p_value = output['pvalue'] \n",
        "    def adjust(val, length= 6): return str(val).ljust(length)\n",
        "\n",
        "    # Print Summary\n",
        "    print(f'    Augmented Dickey-Fuller Test on \"{name}\"', \"\\n   \", '-'*47)\n",
        "    print(f' Null Hypothesis: Data has unit root. Non-Stationary.')\n",
        "    print(f' Significance Level    = {signif}')\n",
        "    print(f' Test Statistic        = {output[\"test_statistic\"]}')\n",
        "    print(f' No. Lags Chosen       = {output[\"n_lags\"]}')\n",
        "\n",
        "    for key,val in r[4].items():\n",
        "        print(f' Critical value {adjust(key)} = {round(val, 3)}')\n",
        "\n",
        "    if p_value <= signif:\n",
        "        print(f\" => P-Value = {p_value}. Rejecting Null Hypothesis.\")\n",
        "        print(f\" => Series is Stationary.\")\n",
        "    else:\n",
        "        print(f\" => P-Value = {p_value}. Weak evidence to reject the Null Hypothesis.\")\n",
        "        print(f\" => Series is Non-Stationary.\")    "
      ],
      "execution_count": null,
      "outputs": []
    },
    {
      "cell_type": "code",
      "metadata": {
        "colab": {
          "base_uri": "https://localhost:8080/"
        },
        "id": "GEJP3f25HXxo",
        "outputId": "10002590-9ed8-48f0-e0c4-3cedfc064b56"
      },
      "source": [
        "# ADF Test on each column\n",
        "for name, column in df_train.iteritems():\n",
        "    adfuller_test(column, name=column.name)\n",
        "    print('\\n')"
      ],
      "execution_count": null,
      "outputs": [
        {
          "output_type": "stream",
          "name": "stdout",
          "text": [
            "    Augmented Dickey-Fuller Test on \"rgnp\" \n",
            "    -----------------------------------------------\n",
            " Null Hypothesis: Data has unit root. Non-Stationary.\n",
            " Significance Level    = 0.05\n",
            " Test Statistic        = 0.5428\n",
            " No. Lags Chosen       = 2\n",
            " Critical value 1%     = -3.488\n",
            " Critical value 5%     = -2.887\n",
            " Critical value 10%    = -2.58\n",
            " => P-Value = 0.9861. Weak evidence to reject the Null Hypothesis.\n",
            " => Series is Non-Stationary.\n",
            "\n",
            "\n",
            "    Augmented Dickey-Fuller Test on \"pgnp\" \n",
            "    -----------------------------------------------\n",
            " Null Hypothesis: Data has unit root. Non-Stationary.\n",
            " Significance Level    = 0.05\n",
            " Test Statistic        = 1.1556\n",
            " No. Lags Chosen       = 1\n",
            " Critical value 1%     = -3.488\n",
            " Critical value 5%     = -2.887\n",
            " Critical value 10%    = -2.58\n",
            " => P-Value = 0.9957. Weak evidence to reject the Null Hypothesis.\n",
            " => Series is Non-Stationary.\n",
            "\n",
            "\n",
            "    Augmented Dickey-Fuller Test on \"ulc\" \n",
            "    -----------------------------------------------\n",
            " Null Hypothesis: Data has unit root. Non-Stationary.\n",
            " Significance Level    = 0.05\n",
            " Test Statistic        = 1.2474\n",
            " No. Lags Chosen       = 2\n",
            " Critical value 1%     = -3.488\n",
            " Critical value 5%     = -2.887\n",
            " Critical value 10%    = -2.58\n",
            " => P-Value = 0.9963. Weak evidence to reject the Null Hypothesis.\n",
            " => Series is Non-Stationary.\n",
            "\n",
            "\n",
            "    Augmented Dickey-Fuller Test on \"gdfco\" \n",
            "    -----------------------------------------------\n",
            " Null Hypothesis: Data has unit root. Non-Stationary.\n",
            " Significance Level    = 0.05\n",
            " Test Statistic        = 1.1954\n",
            " No. Lags Chosen       = 3\n",
            " Critical value 1%     = -3.489\n",
            " Critical value 5%     = -2.887\n",
            " Critical value 10%    = -2.58\n",
            " => P-Value = 0.996. Weak evidence to reject the Null Hypothesis.\n",
            " => Series is Non-Stationary.\n",
            "\n",
            "\n",
            "    Augmented Dickey-Fuller Test on \"gdf\" \n",
            "    -----------------------------------------------\n",
            " Null Hypothesis: Data has unit root. Non-Stationary.\n",
            " Significance Level    = 0.05\n",
            " Test Statistic        = 1.676\n",
            " No. Lags Chosen       = 7\n",
            " Critical value 1%     = -3.491\n",
            " Critical value 5%     = -2.888\n",
            " Critical value 10%    = -2.581\n",
            " => P-Value = 0.9981. Weak evidence to reject the Null Hypothesis.\n",
            " => Series is Non-Stationary.\n",
            "\n",
            "\n",
            "    Augmented Dickey-Fuller Test on \"gdfim\" \n",
            "    -----------------------------------------------\n",
            " Null Hypothesis: Data has unit root. Non-Stationary.\n",
            " Significance Level    = 0.05\n",
            " Test Statistic        = -0.0799\n",
            " No. Lags Chosen       = 1\n",
            " Critical value 1%     = -3.488\n",
            " Critical value 5%     = -2.887\n",
            " Critical value 10%    = -2.58\n",
            " => P-Value = 0.9514. Weak evidence to reject the Null Hypothesis.\n",
            " => Series is Non-Stationary.\n",
            "\n",
            "\n",
            "    Augmented Dickey-Fuller Test on \"gdfcf\" \n",
            "    -----------------------------------------------\n",
            " Null Hypothesis: Data has unit root. Non-Stationary.\n",
            " Significance Level    = 0.05\n",
            " Test Statistic        = 1.4395\n",
            " No. Lags Chosen       = 8\n",
            " Critical value 1%     = -3.491\n",
            " Critical value 5%     = -2.888\n",
            " Critical value 10%    = -2.581\n",
            " => P-Value = 0.9973. Weak evidence to reject the Null Hypothesis.\n",
            " => Series is Non-Stationary.\n",
            "\n",
            "\n",
            "    Augmented Dickey-Fuller Test on \"gdfce\" \n",
            "    -----------------------------------------------\n",
            " Null Hypothesis: Data has unit root. Non-Stationary.\n",
            " Significance Level    = 0.05\n",
            " Test Statistic        = -0.3402\n",
            " No. Lags Chosen       = 8\n",
            " Critical value 1%     = -3.491\n",
            " Critical value 5%     = -2.888\n",
            " Critical value 10%    = -2.581\n",
            " => P-Value = 0.9196. Weak evidence to reject the Null Hypothesis.\n",
            " => Series is Non-Stationary.\n",
            "\n",
            "\n"
          ]
        }
      ]
    },
    {
      "cell_type": "code",
      "metadata": {
        "id": "I-auimq5Hnew"
      },
      "source": [
        "# 1st difference\n",
        "df_differenced = df_train.diff().dropna()\n"
      ],
      "execution_count": null,
      "outputs": []
    },
    {
      "cell_type": "code",
      "metadata": {
        "id": "eMvjgfemHtal"
      },
      "source": [
        "# Second Differencing\n",
        "df_differenced = df_differenced.diff().dropna()"
      ],
      "execution_count": null,
      "outputs": []
    },
    {
      "cell_type": "code",
      "metadata": {
        "colab": {
          "base_uri": "https://localhost:8080/"
        },
        "id": "LS5aJnabIGWr",
        "outputId": "48f13c9d-2da9-43e3-dd15-5c60f82e7c0d"
      },
      "source": [
        "model = VAR(df_differenced)\n",
        "for i in [1,2,3,4,5,6,7,8,9]:\n",
        "    result = model.fit(i)\n",
        "    print('Lag Order =', i)\n",
        "    print('AIC : ', result.aic)\n",
        "    print('BIC : ', result.bic)\n",
        "    print('FPE : ', result.fpe)\n",
        "    print('HQIC: ', result.hqic, '\\n')"
      ],
      "execution_count": null,
      "outputs": [
        {
          "output_type": "stream",
          "name": "stdout",
          "text": [
            "Lag Order = 1\n",
            "AIC :  -1.3679402315450664\n",
            "BIC :  0.3411847146588838\n",
            "FPE :  0.2552682517347198\n",
            "HQIC:  -0.6741331335699554 \n",
            "\n",
            "Lag Order = 2\n",
            "AIC :  -1.621237394447823\n",
            "BIC :  1.6249432095295857\n",
            "FPE :  0.2011349437137141\n",
            "HQIC:  -0.3036288826795914 \n",
            "\n",
            "Lag Order = 3\n",
            "AIC :  -1.7658008387012782\n",
            "BIC :  3.034547316376784\n",
            "FPE :  0.18125103746164378\n",
            "HQIC:  0.18239143783963385 \n",
            "\n",
            "Lag Order = 4\n",
            "AIC :  -2.000735164470316\n",
            "BIC :  4.371215137654089\n",
            "FPE :  0.15556966521481125\n",
            "HQIC:  0.5849359332771087 \n",
            "\n",
            "Lag Order = 5\n",
            "AIC :  -1.9619535608363972\n",
            "BIC :  5.999364562242094\n",
            "FPE :  0.18692794389114853\n",
            "HQIC:  1.2682063311783311 \n",
            "\n",
            "Lag Order = 6\n",
            "AIC :  -2.3303386524829035\n",
            "BIC :  7.238452689088582\n",
            "FPE :  0.16380374017443694\n",
            "HQIC:  1.551437166954809 \n",
            "\n",
            "Lag Order = 7\n",
            "AIC :  -2.592331352347129\n",
            "BIC :  8.602387254937796\n",
            "FPE :  0.1823868583715414\n",
            "HQIC:  1.9483069621146551 \n",
            "\n",
            "Lag Order = 8\n",
            "AIC :  -3.317261976458205\n",
            "BIC :  9.52219581032303\n",
            "FPE :  0.15573163248209088\n",
            "HQIC:  1.8896071386220985 \n",
            "\n",
            "Lag Order = 9\n",
            "AIC :  -4.80476312595863\n",
            "BIC :  9.698613139231599\n",
            "FPE :  0.0842146668267193\n",
            "HQIC:  1.075829164083407 \n",
            "\n"
          ]
        },
        {
          "output_type": "stream",
          "name": "stderr",
          "text": [
            "/usr/local/lib/python3.7/dist-packages/statsmodels/tsa/base/tsa_model.py:165: ValueWarning: No frequency information was provided, so inferred frequency QS-OCT will be used.\n",
            "  % freq, ValueWarning)\n"
          ]
        }
      ]
    },
    {
      "cell_type": "code",
      "metadata": {
        "colab": {
          "base_uri": "https://localhost:8080/",
          "height": 165
        },
        "id": "K4qhji7SIjE3",
        "outputId": "673da05f-a45f-4174-e474-e593b627f3fb"
      },
      "source": [
        "model.select_order(maxlags)"
      ],
      "execution_count": null,
      "outputs": [
        {
          "output_type": "error",
          "ename": "NameError",
          "evalue": "ignored",
          "traceback": [
            "\u001b[0;31m---------------------------------------------------------------------------\u001b[0m",
            "\u001b[0;31mNameError\u001b[0m                                 Traceback (most recent call last)",
            "\u001b[0;32m<ipython-input-19-ccac1165d398>\u001b[0m in \u001b[0;36m<module>\u001b[0;34m()\u001b[0m\n\u001b[0;32m----> 1\u001b[0;31m \u001b[0mmodel\u001b[0m\u001b[0;34m.\u001b[0m\u001b[0mselect_order\u001b[0m\u001b[0;34m(\u001b[0m\u001b[0mmaxlags\u001b[0m\u001b[0;34m)\u001b[0m\u001b[0;34m\u001b[0m\u001b[0;34m\u001b[0m\u001b[0m\n\u001b[0m",
            "\u001b[0;31mNameError\u001b[0m: name 'maxlags' is not defined"
          ]
        }
      ]
    },
    {
      "cell_type": "code",
      "metadata": {
        "colab": {
          "base_uri": "https://localhost:8080/",
          "height": 165
        },
        "id": "jmOUQDFsILII",
        "outputId": "e71c0038-b1d6-425c-955b-44acb9b7fbd7"
      },
      "source": [
        "model.select_order(maxlags)"
      ],
      "execution_count": null,
      "outputs": [
        {
          "output_type": "error",
          "ename": "NameError",
          "evalue": "ignored",
          "traceback": [
            "\u001b[0;31m---------------------------------------------------------------------------\u001b[0m",
            "\u001b[0;31mNameError\u001b[0m                                 Traceback (most recent call last)",
            "\u001b[0;32m<ipython-input-20-ccac1165d398>\u001b[0m in \u001b[0;36m<module>\u001b[0;34m()\u001b[0m\n\u001b[0;32m----> 1\u001b[0;31m \u001b[0mmodel\u001b[0m\u001b[0;34m.\u001b[0m\u001b[0mselect_order\u001b[0m\u001b[0;34m(\u001b[0m\u001b[0mmaxlags\u001b[0m\u001b[0;34m)\u001b[0m\u001b[0;34m\u001b[0m\u001b[0;34m\u001b[0m\u001b[0m\n\u001b[0m",
            "\u001b[0;31mNameError\u001b[0m: name 'maxlags' is not defined"
          ]
        }
      ]
    },
    {
      "cell_type": "code",
      "metadata": {
        "id": "140x-DT3I0HN"
      },
      "source": [
        ""
      ],
      "execution_count": null,
      "outputs": []
    },
    {
      "cell_type": "code",
      "metadata": {
        "id": "dDUMTECBI9nu"
      },
      "source": [
        ""
      ],
      "execution_count": null,
      "outputs": []
    },
    {
      "cell_type": "code",
      "metadata": {
        "id": "DvtEfHPbJKgm"
      },
      "source": [
        ""
      ],
      "execution_count": null,
      "outputs": []
    }
  ]
}